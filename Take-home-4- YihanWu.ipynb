{
 "cells": [
  {
   "cell_type": "code",
   "execution_count": 0,
   "metadata": {
    "application/vnd.databricks.v1+cell": {
     "cellMetadata": {
      "byteLimit": 2048000,
      "rowLimit": 10000
     },
     "inputWidgets": {},
     "nuid": "5797818e-d1c2-4dac-951e-57aad998c63c",
     "showTitle": false,
     "tableResultSettingsMap": {},
     "title": ""
    }
   },
   "outputs": [],
   "source": [
    "from pyspark.sql.types import DoubleType\n",
    "from pyspark.ml.feature import VectorAssembler\n",
    "from pyspark.ml.regression import LinearRegression\n",
    "from pyspark.sql.functions import col\n",
    "import mlflow\n",
    "import mlflow.sklearn\n",
    "from sklearn.metrics import mean_squared_error, mean_absolute_error, r2_score, explained_variance_score\n",
    "from sklearn.ensemble import RandomForestRegressor\n",
    "from sklearn.linear_model import LinearRegression\n",
    "import numpy as np\n",
    "import pandas as pd\n",
    "from datetime import datetime\n",
    "from sklearn.impute import SimpleImputer\n",
    "import mlflo\n",
    "import matplotlib.pyplot as plt\n",
    "from pyspark.sql.functions import col"
   ]
  },
  {
   "cell_type": "code",
   "execution_count": 0,
   "metadata": {
    "application/vnd.databricks.v1+cell": {
     "cellMetadata": {},
     "inputWidgets": {},
     "nuid": "9c04fe2a-0408-4453-93d8-882f86143338",
     "showTitle": false,
     "tableResultSettingsMap": {},
     "title": ""
    }
   },
   "outputs": [],
   "source": [
    "df = spark.read.option(\"header\", True).option(\"nullValue\", \"NULL\").csv('s3://columbia-gr5069-main/raw/results.csv')\n",
    "df = df.dropna(subset=[\"laps\", \"rank\"])\n",
    "     \n",
    "\n",
    "df.write.mode('overwrite').parquet('s3://yw4381-gr5069/processed/F1_results')\n",
    "     \n",
    "\n",
    "display(df)"
   ]
  },
  {
   "cell_type": "code",
   "execution_count": 0,
   "metadata": {
    "application/vnd.databricks.v1+cell": {
     "cellMetadata": {
      "byteLimit": 2048000,
      "implicitDf": true,
      "rowLimit": 10000
     },
     "inputWidgets": {},
     "nuid": "2ff969de-47b2-44c8-911c-6dfb07ffdeaf",
     "showTitle": false,
     "tableResultSettingsMap": {},
     "title": ""
    }
   },
   "outputs": [
    {
     "output_type": "display_data",
     "data": {
      "text/html": [
       "<style scoped>\n",
       "  .table-result-container {\n",
       "    max-height: 300px;\n",
       "    overflow: auto;\n",
       "  }\n",
       "  table, th, td {\n",
       "    border: 1px solid black;\n",
       "    border-collapse: collapse;\n",
       "  }\n",
       "  th, td {\n",
       "    padding: 5px;\n",
       "  }\n",
       "  th {\n",
       "    text-align: left;\n",
       "  }\n",
       "</style><div class='table-result-container'><table class='table-result'><thead style='background-color: white'><tr></tr></thead><tbody></tbody></table></div>"
      ]
     },
     "metadata": {
      "application/vnd.databricks.v1+output": {
       "addedWidgets": {},
       "aggData": [],
       "aggError": "",
       "aggOverflow": false,
       "aggSchema": [],
       "aggSeriesLimitReached": false,
       "aggType": "",
       "arguments": {},
       "columnCustomDisplayInfos": {},
       "data": [],
       "datasetInfos": [],
       "dbfsResultPath": null,
       "isJsonSchema": true,
       "metadata": {
        "dataframeName": null
       },
       "overflow": false,
       "plotOptions": {
        "customPlotOptions": {},
        "displayType": "table",
        "pivotAggregation": null,
        "pivotColumns": null,
        "xColumns": null,
        "yColumns": null
       },
       "removedWidgets": [],
       "schema": [],
       "type": "table"
      }
     },
     "output_type": "display_data"
    }
   ],
   "source": [
    "%sql\n",
    "CREATE TABLE f1_model1_predictions (\n",
    "    race_id INT,\n",
    "    driver_id INT,\n",
    "    predicted_position FLOAT,\n",
    "    actual_position INT,\n",
    "    prediction_date TIMESTAMP\n",
    ");\n",
    "\n",
    "ALTER TABLE f1_model1_predictions SET TBLPROPERTIES (\n",
    "    'delta.feature.allowColumnDefaults' = 'supported'\n",
    ");\n",
    "ALTER TABLE f1_model1_predictions ALTER COLUMN prediction_date SET DEFAULT CURRENT_TIMESTAMP;\n"
   ]
  },
  {
   "cell_type": "code",
   "execution_count": 0,
   "metadata": {
    "application/vnd.databricks.v1+cell": {
     "cellMetadata": {
      "byteLimit": 2048000,
      "implicitDf": true,
      "rowLimit": 10000
     },
     "inputWidgets": {},
     "nuid": "1db1d97b-ca61-474a-b2f6-02c75dc7a45e",
     "showTitle": false,
     "tableResultSettingsMap": {},
     "title": ""
    }
   },
   "outputs": [
    {
     "output_type": "display_data",
     "data": {
      "text/html": [
       "<style scoped>\n",
       "  .table-result-container {\n",
       "    max-height: 300px;\n",
       "    overflow: auto;\n",
       "  }\n",
       "  table, th, td {\n",
       "    border: 1px solid black;\n",
       "    border-collapse: collapse;\n",
       "  }\n",
       "  th, td {\n",
       "    padding: 5px;\n",
       "  }\n",
       "  th {\n",
       "    text-align: left;\n",
       "  }\n",
       "</style><div class='table-result-container'><table class='table-result'><thead style='background-color: white'><tr></tr></thead><tbody></tbody></table></div>"
      ]
     },
     "metadata": {
      "application/vnd.databricks.v1+output": {
       "addedWidgets": {},
       "aggData": [],
       "aggError": "",
       "aggOverflow": false,
       "aggSchema": [],
       "aggSeriesLimitReached": false,
       "aggType": "",
       "arguments": {},
       "columnCustomDisplayInfos": {},
       "data": [],
       "datasetInfos": [],
       "dbfsResultPath": null,
       "isJsonSchema": true,
       "metadata": {
        "dataframeName": null
       },
       "overflow": false,
       "plotOptions": {
        "customPlotOptions": {},
        "displayType": "table",
        "pivotAggregation": null,
        "pivotColumns": null,
        "xColumns": null,
        "yColumns": null
       },
       "removedWidgets": [],
       "schema": [],
       "type": "table"
      }
     },
     "output_type": "display_data"
    }
   ],
   "source": [
    "%sql\n",
    "CREATE TABLE f1_model2_predictions (\n",
    "    race_id INT,\n",
    "    driver_id INT,\n",
    "    predicted_position FLOAT,\n",
    "    actual_position INT,\n",
    "    prediction_date TIMESTAMP\n",
    ");\n",
    "\n",
    "ALTER TABLE f1_model2_predictions SET TBLPROPERTIES (\n",
    "    'delta.feature.allowColumnDefaults' = 'supported'\n",
    ");\n",
    "ALTER TABLE f1_model2_predictions ALTER COLUMN prediction_date SET DEFAULT CURRENT_TIMESTAMP;"
   ]
  },
  {
   "cell_type": "code",
   "execution_count": 0,
   "metadata": {
    "application/vnd.databricks.v1+cell": {
     "cellMetadata": {
      "byteLimit": 2048000,
      "rowLimit": 10000
     },
     "inputWidgets": {},
     "nuid": "93a68920-a122-4f7f-8e2a-8b615ed32a88",
     "showTitle": false,
     "tableResultSettingsMap": {},
     "title": ""
    }
   },
   "outputs": [],
   "source": [
    "# Load the data from S3\n",
    "df = spark.read.option(\"header\", True).option(\"nullValue\", \"NULL\").csv('s3://columbia-gr5069-main/raw/results.csv')\n",
    "df = df.dropna(subset=[\"laps\", \"rank\"])\n",
    "\n",
    "# Convert necessary columns to appropriate types\n",
    "df = df.withColumn(\"position\", df[\"position\"].cast(\"int\"))\n",
    "df = df.withColumn(\"points\", df[\"points\"].cast(\"float\"))\n",
    "df = df.withColumn(\"laps\", df[\"laps\"].cast(\"int\"))\n",
    "df = df.withColumn(\"rank\", df[\"rank\"].cast(\"int\"))\n",
    "df = df.withColumn(\"grid\", df[\"grid\"].cast(\"int\"))\n",
    "\n",
    "# Feature engineering\n",
    "df = df.withColumn(\"grid_position_diff\", df[\"grid\"] - df[\"position\"])\n",
    "\n",
    "# Split the data for training and testing\n",
    "train_df, test_df = df.randomSplit([0.8, 0.2], seed=42)\n",
    "\n",
    "# Convert to pandas for scikit-learn\n",
    "train_pd = train_df.toPandas()\n",
    "test_pd = test_df.toPandas()\n",
    "\n",
    "# Select features and target\n",
    "features = [\"grid\", \"laps\", \"grid_position_diff\"]\n",
    "target = \"position\"\n",
    "\n",
    "X_train = train_pd[features]\n",
    "y_train = train_pd[target]\n",
    "X_test = test_pd[features]\n",
    "y_test = test_pd[target]\n"
   ]
  },
  {
   "cell_type": "code",
   "execution_count": 0,
   "metadata": {
    "application/vnd.databricks.v1+cell": {
     "cellMetadata": {
      "byteLimit": 2048000,
      "rowLimit": 10000
     },
     "inputWidgets": {},
     "nuid": "2436d430-b138-4059-a023-17d19001b20a",
     "showTitle": false,
     "tableResultSettingsMap": {},
     "title": ""
    }
   },
   "outputs": [],
   "source": [
    "mlflow.set_tracking_uri(\"databricks\")\n",
    "\n",
    "experiment = mlflow.set_experiment(\"/Users/yw4381@columbia.edu/F1_Position_Prediction\")\n"
   ]
  },
  {
   "cell_type": "code",
   "execution_count": 0,
   "metadata": {
    "application/vnd.databricks.v1+cell": {
     "cellMetadata": {
      "byteLimit": 2048000,
      "rowLimit": 10000
     },
     "inputWidgets": {},
     "nuid": "7be71226-402f-4770-8e3c-28c5fb02a140",
     "showTitle": false,
     "tableResultSettingsMap": {},
     "title": ""
    }
   },
   "outputs": [
    {
     "output_type": "stream",
     "name": "stderr",
     "output_type": "stream",
     "text": [
      "2025/04/27 19:42:36 WARNING mlflow.models.model: Model logged without a signature. Signatures will be required for upcoming model registry features as they validate model inputs and denote the expected schema of model outputs. Please visit https://www.mlflow.org/docs/2.11.4/models.html#set-signature-on-logged-model for instructions on setting a model signature on your logged model.\n"
     ]
    },
    {
     "output_type": "stream",
     "name": "stdout",
     "output_type": "stream",
     "text": [
      "Linear Regression model metrics: RMSE=3.0265, MAE=2.5428, R2=0.3599\n"
     ]
    },
    {
     "output_type": "display_data",
     "data": {
      "image/png": "[encoded data removed]",
      "text/plain": [
       "<Figure size 1000x600 with 1 Axes>"
      ]
     },
     "metadata": {},
     "output_type": "display_data"
    },
    {
     "output_type": "display_data",
     "data": {
      "image/png": "[encoded data removed]",
      "text/plain": [
       "<Figure size 1000x600 with 1 Axes>"
      ]
     },
     "metadata": {},
     "output_type": "display_data"
    }
   ],
   "source": [
    "# Impute missing values\n",
    "imputer = SimpleImputer(strategy='mean')\n",
    "X_train_imputed = imputer.fit_transform(X_train)\n",
    "X_test_imputed = imputer.transform(X_test)\n",
    "y_train_imputed = imputer.fit_transform(y_train.to_numpy().reshape(-1, 1)).ravel()\n",
    "y_test_imputed = imputer.transform(y_test.to_numpy().reshape(-1, 1)).ravel()\n",
    "\n",
    "# Linear Regression model\n",
    "with mlflow.start_run(run_name=\"Linear_Regression_Model\") as run:\n",
    "    # Define hyperparameters\n",
    "    lr_params = {\n",
    "        \"fit_intercept\": True,\n",
    "        \"n_jobs\": -1\n",
    "    }\n",
    "    \n",
    "    # Log hyperparameters\n",
    "    mlflow.log_params(lr_params)\n",
    "    \n",
    "    # Create and train the model\n",
    "    lr_model = LinearRegression(**lr_params)\n",
    "    lr_model.fit(X_train_imputed, y_train_imputed)\n",
    "    \n",
    "    # Make predictions\n",
    "    y_pred_train = lr_model.predict(X_train_imputed)\n",
    "    y_pred_test = lr_model.predict(X_test_imputed)\n",
    "    \n",
    "    # Calculate metrics\n",
    "    mse = mean_squared_error(y_test_imputed, y_pred_test)\n",
    "    rmse = np.sqrt(mse)\n",
    "    mae = mean_absolute_error(y_test_imputed, y_pred_test)\n",
    "    r2 = r2_score(y_test_imputed, y_pred_test)\n",
    "    ev = explained_variance_score(y_test_imputed, y_pred_test)\n",
    "    \n",
    "    # Log metrics\n",
    "    mlflow.log_metric(\"mse\", mse)\n",
    "    mlflow.log_metric(\"rmse\", rmse)\n",
    "    mlflow.log_metric(\"mae\", mae)\n",
    "    mlflow.log_metric(\"r2\", r2)\n",
    "    \n",
    "    # Log the model\n",
    "    mlflow.sklearn.log_model(lr_model, \"linear_regression_model\")\n",
    "    \n",
    "    # Create feature importance plot\n",
    "    plt.figure(figsize=(10, 6))\n",
    "    plt.bar(features, lr_model.coef_)\n",
    "    plt.title('Feature Coefficients in Linear Regression Model')\n",
    "    plt.xlabel('Features')\n",
    "    plt.ylabel('Coefficient Value')\n",
    "    plt.tight_layout()\n",
    "    \n",
    "    # Save and log the plot as an artifact\n",
    "    coef_plot_path = \"lr_coefficients_plot.png\"\n",
    "    plt.savefig(coef_plot_path)\n",
    "    mlflow.log_artifact(coef_plot_path)\n",
    "    \n",
    "    # Create and log a prediction distribution plot\n",
    "    plt.figure(figsize=(10, 6))\n",
    "    plt.scatter(y_test_imputed, y_pred_test, alpha=0.5)\n",
    "    plt.plot([y_test_imputed.min(), y_test_imputed.max()], [y_test_imputed.min(), y_test_imputed.max()], 'r--')\n",
    "    plt.title('Actual vs Predicted Positions')\n",
    "    plt.xlabel('Actual Position')\n",
    "    plt.ylabel('Predicted Position')\n",
    "    plt.tight_layout()\n",
    "    \n",
    "    # Save and log the plot as an artifact\n",
    "    pred_plot_path = \"lr_predictions_plot.png\"\n",
    "    plt.savefig(pred_plot_path)\n",
    "    mlflow.log_artifact(pred_plot_path)\n",
    "    \n",
    "    # Get the run ID for later reference\n",
    "    lr_run_id = run.info.run_id\n",
    "    \n",
    "    # Prepare predictions for database storage - fix the data types\n",
    "    predictions_df = test_pd[[\"raceId\", \"driverId\", \"position\"]].copy()\n",
    "    predictions_df[\"predicted_position\"] = y_pred_test\n",
    "    \n",
    "    # Ensure correct data types\n",
    "    predictions_df[\"raceId\"] = predictions_df[\"raceId\"].astype(int)\n",
    "    predictions_df[\"driverId\"] = predictions_df[\"driverId\"].astype(int)\n",
    "    predictions_df[\"position\"] = predictions_df[\"position\"].fillna(0).astype(int)\n",
    "    predictions_df[\"predicted_position\"] = predictions_df[\"predicted_position\"].astype(float)\n",
    "    \n",
    "    # Add a placeholder column for the missing column in the target table\n",
    "    predictions_df[\"placeholder_column\"] = 0  # Adjust the default value as needed\n",
    "    \n",
    "    # Convert to Spark DataFrame for database insertion\n",
    "    predictions_spark = spark.createDataFrame(predictions_df)\n",
    "    \n",
    "    # Write predictions to the database - use insertInto instead of saveAsTable\n",
    "    predictions_spark.select(\n",
    "        col(\"raceId\").cast(\"int\").alias(\"race_id\"),\n",
    "        col(\"driverId\").cast(\"int\").alias(\"driver_id\"),\n",
    "        col(\"predicted_position\").cast(\"float\"),\n",
    "        col(\"position\").cast(\"int\").alias(\"actual_position\"),\n",
    "        col(\"placeholder_column\").cast(\"int\")  # Ensure the placeholder column is included\n",
    "    ).write.mode(\"append\").format(\"delta\").insertInto(\"f1_model1_predictions\")\n",
    "    \n",
    "    print(f\"Linear Regression model metrics: RMSE={rmse:.4f}, MAE={mae:.4f}, R2={r2:.4f}\")\n",
    "\n"
   ]
  },
  {
   "cell_type": "code",
   "execution_count": 0,
   "metadata": {
    "application/vnd.databricks.v1+cell": {
     "cellMetadata": {
      "byteLimit": 2048000,
      "rowLimit": 10000
     },
     "inputWidgets": {},
     "nuid": "94f281ba-09e8-454a-ae90-58e0fa833e98",
     "showTitle": false,
     "tableResultSettingsMap": {},
     "title": ""
    }
   },
   "outputs": [
    {
     "output_type": "stream",
     "name": "stderr",
     "output_type": "stream",
     "text": [
      "2025/04/27 19:44:15 WARNING mlflow.models.model: Model logged without a signature. Signatures will be required for upcoming model registry features as they validate model inputs and denote the expected schema of model outputs. Please visit https://www.mlflow.org/docs/2.11.4/models.html#set-signature-on-logged-model for instructions on setting a model signature on your logged model.\n"
     ]
    },
    {
     "output_type": "stream",
     "name": "stdout",
     "output_type": "stream",
     "text": [
      "Random Forest model metrics: RMSE=0.2634, MAE=0.0734, R2=0.9952\n"
     ]
    },
    {
     "output_type": "display_data",
     "data": {
      "image/png": "[encoded data removed]",
      "text/plain": [
       "<Figure size 1000x600 with 1 Axes>"
      ]
     },
     "metadata": {},
     "output_type": "display_data"
    },
    {
     "output_type": "display_data",
     "data": {
      "image/png": "[encoded data removed]",
      "text/plain": [
       "<Figure size 1000x600 with 1 Axes>"
      ]
     },
     "metadata": {},
     "output_type": "display_data"
    }
   ],
   "source": [
    "# Random Forest model\n",
    "with mlflow.start_run(run_name=\"Random_Forest_Model\") as run:\n",
    "    # Define hyperparameters\n",
    "    rf_params = {\n",
    "        \"n_estimators\": 100,\n",
    "        \"max_depth\": 10,\n",
    "        \"min_samples_split\": 5,\n",
    "        \"min_samples_leaf\": 2,\n",
    "        \"random_state\": 42\n",
    "    }\n",
    "    \n",
    "    # Log hyperparameters\n",
    "    mlflow.log_params(rf_params)\n",
    "    \n",
    "    # Create and train the model\n",
    "    rf_model = RandomForestRegressor(**rf_params)\n",
    "    rf_model.fit(X_train_imputed, y_train_imputed)\n",
    "    \n",
    "    # Make predictions\n",
    "    y_pred_train = rf_model.predict(X_train_imputed)\n",
    "    y_pred_test = rf_model.predict(X_test_imputed)\n",
    "    \n",
    "    # Calculate metrics\n",
    "    mse = mean_squared_error(y_test_imputed, y_pred_test)\n",
    "    rmse = np.sqrt(mse)\n",
    "    mae = mean_absolute_error(y_test_imputed, y_pred_test)\n",
    "    r2 = r2_score(y_test_imputed, y_pred_test)\n",
    "    ev = explained_variance_score(y_test_imputed, y_pred_test)\n",
    "    \n",
    "    # Log metrics\n",
    "    mlflow.log_metric(\"mse\", mse)\n",
    "    mlflow.log_metric(\"rmse\", rmse)\n",
    "    mlflow.log_metric(\"mae\", mae)\n",
    "    mlflow.log_metric(\"r2\", r2)\n",
    "    \n",
    "    # Log the model\n",
    "    mlflow.sklearn.log_model(rf_model, \"random_forest_model\")\n",
    "    \n",
    "    # Create feature importance plot\n",
    "    plt.figure(figsize=(10, 6))\n",
    "    plt.bar(features, rf_model.feature_importances_)\n",
    "    plt.title('Feature Importance in Random Forest Model')\n",
    "    plt.xlabel('Features')\n",
    "    plt.ylabel('Importance')\n",
    "    plt.tight_layout()\n",
    "    \n",
    "    # Save and log the plot as an artifact\n",
    "    importance_plot_path = \"rf_importance_plot.png\"\n",
    "    plt.savefig(importance_plot_path)\n",
    "    mlflow.log_artifact(importance_plot_path)\n",
    "    \n",
    "    # Create and log a prediction distribution plot\n",
    "    plt.figure(figsize=(10, 6))\n",
    "    plt.scatter(y_test_imputed, y_pred_test, alpha=0.5)\n",
    "    plt.plot([y_test_imputed.min(), y_test_imputed.max()], [y_test_imputed.min(), y_test_imputed.max()], 'r--')\n",
    "    plt.title('Actual vs Predicted Positions (Random Forest)')\n",
    "    plt.xlabel('Actual Position')\n",
    "    plt.ylabel('Predicted Position')\n",
    "    plt.tight_layout()\n",
    "    \n",
    "    # Save and log the plot as an artifact\n",
    "    pred_plot_path = \"rf_predictions_plot.png\"\n",
    "    plt.savefig(pred_plot_path)\n",
    "    mlflow.log_artifact(pred_plot_path)\n",
    "    \n",
    "    # Get the run ID for later reference\n",
    "    rf_run_id = run.info.run_id\n",
    "    \n",
    "    # Prepare predictions for database storage - fix the data types\n",
    "    predictions_df = test_pd[[\"raceId\", \"driverId\", \"position\"]].copy()\n",
    "    predictions_df[\"predicted_position\"] = y_pred_test\n",
    "    \n",
    "    # Ensure correct data types\n",
    "    predictions_df[\"raceId\"] = predictions_df[\"raceId\"].astype(int)\n",
    "    predictions_df[\"driverId\"] = predictions_df[\"driverId\"].astype(int)\n",
    "    predictions_df[\"position\"] = predictions_df[\"position\"].fillna(0).astype(int)\n",
    "    predictions_df[\"predicted_position\"] = predictions_df[\"predicted_position\"].astype(float)\n",
    "    \n",
    "    # Add a placeholder column \n",
    "    predictions_df[\"placeholder_column\"] = 0 \n",
    "    \n",
    "    # Convert to Spark DataFrame for database insertion\n",
    "    predictions_spark = spark.createDataFrame(predictions_df)\n",
    "    \n",
    "    predictions_spark.select(\n",
    "        col(\"raceId\").cast(\"int\").alias(\"race_id\"),\n",
    "        col(\"driverId\").cast(\"int\").alias(\"driver_id\"),\n",
    "        col(\"predicted_position\").cast(\"float\"),\n",
    "        col(\"position\").cast(\"int\").alias(\"actual_position\"),\n",
    "        col(\"placeholder_column\").cast(\"int\")  # Ensure the placeholder column is included\n",
    "    ).write.mode(\"append\").format(\"delta\").insertInto(\"f1_model2_predictions\")\n",
    "    \n",
    "    print(f\"Random Forest model metrics: RMSE={rmse:.4f}, MAE={mae:.4f}, R2={r2:.4f}\")\n"
   ]
  },
  {
   "cell_type": "code",
   "execution_count": 0,
   "metadata": {
    "application/vnd.databricks.v1+cell": {
     "cellMetadata": {
      "byteLimit": 2048000,
      "rowLimit": 10000
     },
     "inputWidgets": {},
     "nuid": "bc391676-3db1-4d97-ac9a-bdf56d548c0f",
     "showTitle": false,
     "tableResultSettingsMap": {},
     "title": ""
    }
   },
   "outputs": [
    {
     "output_type": "stream",
     "name": "stdout",
     "output_type": "stream",
     "text": [
      "Model 1 Predictions:\n"
     ]
    },
    {
     "output_type": "display_data",
     "data": {
      "text/html": [
       "<style scoped>\n",
       "  .table-result-container {\n",
       "    max-height: 300px;\n",
       "    overflow: auto;\n",
       "  }\n",
       "  table, th, td {\n",
       "    border: 1px solid black;\n",
       "    border-collapse: collapse;\n",
       "  }\n",
       "  th, td {\n",
       "    padding: 5px;\n",
       "  }\n",
       "  th {\n",
       "    text-align: left;\n",
       "  }\n",
       "</style><div class='table-result-container'><table class='table-result'><thead style='background-color: white'><tr><th>race_id</th><th>driver_id</th><th>predicted_position</th><th>actual_position</th><th>prediction_date</th></tr></thead><tbody><tr><td>22</td><td>5</td><td>9.944339</td><td>12</td><td>1970-01-01T00:00:00Z</td></tr><tr><td>427</td><td>118</td><td>6.5142837</td><td>5</td><td>1970-01-01T00:00:00Z</td></tr><tr><td>427</td><td>84</td><td>6.850629</td><td>7</td><td>1970-01-01T00:00:00Z</td></tr><tr><td>427</td><td>182</td><td>7.4521394</td><td>0</td><td>1970-01-01T00:00:00Z</td></tr><tr><td>427</td><td>181</td><td>10.39484</td><td>0</td><td>1970-01-01T00:00:00Z</td></tr><tr><td>427</td><td>156</td><td>12.60378</td><td>0</td><td>1970-01-01T00:00:00Z</td></tr><tr><td>427</td><td>160</td><td>12.9897995</td><td>0</td><td>1970-01-01T00:00:00Z</td></tr><tr><td>428</td><td>95</td><td>7.0071435</td><td>6</td><td>1970-01-01T00:00:00Z</td></tr><tr><td>428</td><td>179</td><td>12.744818</td><td>0</td><td>1970-01-01T00:00:00Z</td></tr><tr><td>428</td><td>170</td><td>4.6057267</td><td>0</td><td>1970-01-01T00:00:00Z</td></tr></tbody></table></div>"
      ]
     },
     "metadata": {
      "application/vnd.databricks.v1+output": {
       "addedWidgets": {},
       "aggData": [],
       "aggError": "",
       "aggOverflow": false,
       "aggSchema": [],
       "aggSeriesLimitReached": false,
       "aggType": "",
       "arguments": {},
       "columnCustomDisplayInfos": {},
       "data": [
        [
         22,
         5,
         9.944339,
         12,
         "1970-01-01T00:00:00Z"
        ],
        [
         427,
         118,
         6.5142837,
         5,
         "1970-01-01T00:00:00Z"
        ],
        [
         427,
         84,
         6.850629,
         7,
         "1970-01-01T00:00:00Z"
        ],
        [
         427,
         182,
         7.4521394,
         0,
         "1970-01-01T00:00:00Z"
        ],
        [
         427,
         181,
         10.39484,
         0,
         "1970-01-01T00:00:00Z"
        ],
        [
         427,
         156,
         12.60378,
         0,
         "1970-01-01T00:00:00Z"
        ],
        [
         427,
         160,
         12.9897995,
         0,
         "1970-01-01T00:00:00Z"
        ],
        [
         428,
         95,
         7.0071435,
         6,
         "1970-01-01T00:00:00Z"
        ],
        [
         428,
         179,
         12.744818,
         0,
         "1970-01-01T00:00:00Z"
        ],
        [
         428,
         170,
         4.6057267,
         0,
         "1970-01-01T00:00:00Z"
        ]
       ],
       "datasetInfos": [],
       "dbfsResultPath": null,
       "isJsonSchema": true,
       "metadata": {},
       "overflow": false,
       "plotOptions": {
        "customPlotOptions": {},
        "displayType": "table",
        "pivotAggregation": null,
        "pivotColumns": null,
        "xColumns": null,
        "yColumns": null
       },
       "removedWidgets": [],
       "schema": [
        {
         "metadata": "{}",
         "name": "race_id",
         "type": "\"integer\""
        },
        {
         "metadata": "{}",
         "name": "driver_id",
         "type": "\"integer\""
        },
        {
         "metadata": "{}",
         "name": "predicted_position",
         "type": "\"float\""
        },
        {
         "metadata": "{}",
         "name": "actual_position",
         "type": "\"integer\""
        },
        {
         "metadata": "{\"CURRENT_DEFAULT\":\"CURRENT_TIMESTAMP\"}",
         "name": "prediction_date",
         "type": "\"timestamp\""
        }
       ],
       "type": "table"
      }
     },
     "output_type": "display_data"
    },
    {
     "output_type": "stream",
     "name": "stdout",
     "output_type": "stream",
     "text": [
      "Model 2 Predictions:\n"
     ]
    },
    {
     "output_type": "display_data",
     "data": {
      "text/html": [
       "<style scoped>\n",
       "  .table-result-container {\n",
       "    max-height: 300px;\n",
       "    overflow: auto;\n",
       "  }\n",
       "  table, th, td {\n",
       "    border: 1px solid black;\n",
       "    border-collapse: collapse;\n",
       "  }\n",
       "  th, td {\n",
       "    padding: 5px;\n",
       "  }\n",
       "  th {\n",
       "    text-align: left;\n",
       "  }\n",
       "</style><div class='table-result-container'><table class='table-result'><thead style='background-color: white'><tr><th>race_id</th><th>driver_id</th><th>predicted_position</th><th>actual_position</th><th>prediction_date</th></tr></thead><tbody><tr><td>22</td><td>5</td><td>11.895386</td><td>12</td><td>1970-01-01T00:00:00Z</td></tr><tr><td>427</td><td>118</td><td>5.0</td><td>5</td><td>1970-01-01T00:00:00Z</td></tr><tr><td>427</td><td>84</td><td>7.0313797</td><td>7</td><td>1970-01-01T00:00:00Z</td></tr><tr><td>427</td><td>182</td><td>7.925581</td><td>0</td><td>1970-01-01T00:00:00Z</td></tr><tr><td>427</td><td>181</td><td>7.925581</td><td>0</td><td>1970-01-01T00:00:00Z</td></tr><tr><td>427</td><td>156</td><td>7.925581</td><td>0</td><td>1970-01-01T00:00:00Z</td></tr><tr><td>427</td><td>160</td><td>7.925581</td><td>0</td><td>1970-01-01T00:00:00Z</td></tr><tr><td>428</td><td>95</td><td>6.0</td><td>6</td><td>1970-01-01T00:00:00Z</td></tr><tr><td>428</td><td>179</td><td>7.925581</td><td>0</td><td>1970-01-01T00:00:00Z</td></tr><tr><td>428</td><td>170</td><td>7.925581</td><td>0</td><td>1970-01-01T00:00:00Z</td></tr></tbody></table></div>"
      ]
     },
     "metadata": {
      "application/vnd.databricks.v1+output": {
       "addedWidgets": {},
       "aggData": [],
       "aggError": "",
       "aggOverflow": false,
       "aggSchema": [],
       "aggSeriesLimitReached": false,
       "aggType": "",
       "arguments": {},
       "columnCustomDisplayInfos": {},
       "data": [
        [
         22,
         5,
         11.895386,
         12,
         "1970-01-01T00:00:00Z"
        ],
        [
         427,
         118,
         5.0,
         5,
         "1970-01-01T00:00:00Z"
        ],
        [
         427,
         84,
         7.0313797,
         7,
         "1970-01-01T00:00:00Z"
        ],
        [
         427,
         182,
         7.925581,
         0,
         "1970-01-01T00:00:00Z"
        ],
        [
         427,
         181,
         7.925581,
         0,
         "1970-01-01T00:00:00Z"
        ],
        [
         427,
         156,
         7.925581,
         0,
         "1970-01-01T00:00:00Z"
        ],
        [
         427,
         160,
         7.925581,
         0,
         "1970-01-01T00:00:00Z"
        ],
        [
         428,
         95,
         6.0,
         6,
         "1970-01-01T00:00:00Z"
        ],
        [
         428,
         179,
         7.925581,
         0,
         "1970-01-01T00:00:00Z"
        ],
        [
         428,
         170,
         7.925581,
         0,
         "1970-01-01T00:00:00Z"
        ]
       ],
       "datasetInfos": [],
       "dbfsResultPath": null,
       "isJsonSchema": true,
       "metadata": {},
       "overflow": false,
       "plotOptions": {
        "customPlotOptions": {},
        "displayType": "table",
        "pivotAggregation": null,
        "pivotColumns": null,
        "xColumns": null,
        "yColumns": null
       },
       "removedWidgets": [],
       "schema": [
        {
         "metadata": "{}",
         "name": "race_id",
         "type": "\"integer\""
        },
        {
         "metadata": "{}",
         "name": "driver_id",
         "type": "\"integer\""
        },
        {
         "metadata": "{}",
         "name": "predicted_position",
         "type": "\"float\""
        },
        {
         "metadata": "{}",
         "name": "actual_position",
         "type": "\"integer\""
        },
        {
         "metadata": "{\"CURRENT_DEFAULT\":\"CURRENT_TIMESTAMP\"}",
         "name": "prediction_date",
         "type": "\"timestamp\""
        }
       ],
       "type": "table"
      }
     },
     "output_type": "display_data"
    },
    {
     "output_type": "stream",
     "name": "stdout",
     "output_type": "stream",
     "text": [
      "Model 1 Prediction Statistics:\n"
     ]
    },
    {
     "output_type": "display_data",
     "data": {
      "text/html": [
       "<style scoped>\n",
       "  .table-result-container {\n",
       "    max-height: 300px;\n",
       "    overflow: auto;\n",
       "  }\n",
       "  table, th, td {\n",
       "    border: 1px solid black;\n",
       "    border-collapse: collapse;\n",
       "  }\n",
       "  th, td {\n",
       "    padding: 5px;\n",
       "  }\n",
       "  th {\n",
       "    text-align: left;\n",
       "  }\n",
       "</style><div class='table-result-container'><table class='table-result'><thead style='background-color: white'><tr><th>prediction_count</th><th>avg_predicted_position</th><th>avg_actual_position</th><th>avg_absolute_error</th></tr></thead><tbody><tr><td>5206</td><td>7.977086845655145</td><td>4.797733384556281</td><td>4.955539306859717</td></tr></tbody></table></div>"
      ]
     },
     "metadata": {
      "application/vnd.databricks.v1+output": {
       "addedWidgets": {},
       "aggData": [],
       "aggError": "",
       "aggOverflow": false,
       "aggSchema": [],
       "aggSeriesLimitReached": false,
       "aggType": "",
       "arguments": {},
       "columnCustomDisplayInfos": {},
       "data": [
        [
         5206,
         7.977086845655145,
         4.797733384556281,
         4.955539306859717
        ]
       ],
       "datasetInfos": [],
       "dbfsResultPath": null,
       "isJsonSchema": true,
       "metadata": {},
       "overflow": false,
       "plotOptions": {
        "customPlotOptions": {},
        "displayType": "table",
        "pivotAggregation": null,
        "pivotColumns": null,
        "xColumns": null,
        "yColumns": null
       },
       "removedWidgets": [],
       "schema": [
        {
         "metadata": "{}",
         "name": "prediction_count",
         "type": "\"long\""
        },
        {
         "metadata": "{}",
         "name": "avg_predicted_position",
         "type": "\"double\""
        },
        {
         "metadata": "{}",
         "name": "avg_actual_position",
         "type": "\"double\""
        },
        {
         "metadata": "{}",
         "name": "avg_absolute_error",
         "type": "\"double\""
        }
       ],
       "type": "table"
      }
     },
     "output_type": "display_data"
    },
    {
     "output_type": "stream",
     "name": "stdout",
     "output_type": "stream",
     "text": [
      "Model 2 Prediction Statistics:\n"
     ]
    },
    {
     "output_type": "display_data",
     "data": {
      "text/html": [
       "<style scoped>\n",
       "  .table-result-container {\n",
       "    max-height: 300px;\n",
       "    overflow: auto;\n",
       "  }\n",
       "  table, th, td {\n",
       "    border: 1px solid black;\n",
       "    border-collapse: collapse;\n",
       "  }\n",
       "  th, td {\n",
       "    padding: 5px;\n",
       "  }\n",
       "  th {\n",
       "    text-align: left;\n",
       "  }\n",
       "</style><div class='table-result-container'><table class='table-result'><thead style='background-color: white'><tr><th>prediction_count</th><th>avg_predicted_position</th><th>avg_actual_position</th><th>avg_absolute_error</th></tr></thead><tbody><tr><td>10412</td><td>8.038886506833162</td><td>4.797733384556281</td><td>3.3206520989634556</td></tr></tbody></table></div>"
      ]
     },
     "metadata": {
      "application/vnd.databricks.v1+output": {
       "addedWidgets": {},
       "aggData": [],
       "aggError": "",
       "aggOverflow": false,
       "aggSchema": [],
       "aggSeriesLimitReached": false,
       "aggType": "",
       "arguments": {},
       "columnCustomDisplayInfos": {},
       "data": [
        [
         10412,
         8.038886506833162,
         4.797733384556281,
         3.3206520989634556
        ]
       ],
       "datasetInfos": [],
       "dbfsResultPath": null,
       "isJsonSchema": true,
       "metadata": {},
       "overflow": false,
       "plotOptions": {
        "customPlotOptions": {},
        "displayType": "table",
        "pivotAggregation": null,
        "pivotColumns": null,
        "xColumns": null,
        "yColumns": null
       },
       "removedWidgets": [],
       "schema": [
        {
         "metadata": "{}",
         "name": "prediction_count",
         "type": "\"long\""
        },
        {
         "metadata": "{}",
         "name": "avg_predicted_position",
         "type": "\"double\""
        },
        {
         "metadata": "{}",
         "name": "avg_actual_position",
         "type": "\"double\""
        },
        {
         "metadata": "{}",
         "name": "avg_absolute_error",
         "type": "\"double\""
        }
       ],
       "type": "table"
      }
     },
     "output_type": "display_data"
    }
   ],
   "source": [
    "# Verify predictions in the database tables\n",
    "print(\"Model 1 Predictions:\")\n",
    "display(spark.sql(\"SELECT * FROM f1_model1_predictions LIMIT 10\"))\n",
    "\n",
    "print(\"Model 2 Predictions:\")\n",
    "display(spark.sql(\"SELECT * FROM f1_model2_predictions LIMIT 10\"))\n",
    "\n",
    "# Get summary statistics for predictions\n",
    "print(\"Model 1 Prediction Statistics:\")\n",
    "display(spark.sql(\"\"\"\n",
    "    SELECT \n",
    "        COUNT(*) as prediction_count,\n",
    "        AVG(predicted_position) as avg_predicted_position,\n",
    "        AVG(actual_position) as avg_actual_position,\n",
    "        AVG(ABS(predicted_position - actual_position)) as avg_absolute_error\n",
    "    FROM f1_model1_predictions\n",
    "\"\"\"))\n",
    "\n",
    "print(\"Model 2 Prediction Statistics:\")\n",
    "display(spark.sql(\"\"\"\n",
    "    SELECT \n",
    "        COUNT(*) as prediction_count,\n",
    "        AVG(predicted_position) as avg_predicted_position,\n",
    "        AVG(actual_position) as avg_actual_position,\n",
    "        AVG(ABS(predicted_position - actual_position)) as avg_absolute_error\n",
    "    FROM f1_model2_predictions\n",
    "\"\"\"))\n"
   ]
  }
 ],
 "metadata": {
  "application/vnd.databricks.v1+notebook": {
   "computePreferences": null,
   "dashboards": [],
   "environmentMetadata": {
    "base_environment": "",
    "environment_version": "2"
   },
   "inputWidgetPreferences": null,
   "language": "python",
   "notebookMetadata": {
    "mostRecentlyExecutedCommandWithImplicitDF": {
     "commandId": 5945976898494475,
     "dataframes": [
      "_sqldf"
     ]
    },
    "pythonIndentUnit": 4
   },
   "notebookName": "Take-home-4- YihanWu",
   "widgets": {}
  },
  "language_info": {
   "name": "python"
  }
 },
 "nbformat": 4,
 "nbformat_minor": 0
}